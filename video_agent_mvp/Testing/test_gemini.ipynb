{
 "cells": [
  {
   "cell_type": "code",
   "execution_count": 1,
   "metadata": {},
   "outputs": [
    {
     "name": "stdout",
     "output_type": "stream",
     "text": [
      "Requirement already satisfied: google-generativeai in /Users/dominikhelmreich/opt/anaconda3/lib/python3.9/site-packages (0.8.4)\n",
      "Requirement already satisfied: tqdm in /Users/dominikhelmreich/opt/anaconda3/lib/python3.9/site-packages (from google-generativeai) (4.62.3)\n",
      "Requirement already satisfied: google-ai-generativelanguage==0.6.15 in /Users/dominikhelmreich/opt/anaconda3/lib/python3.9/site-packages (from google-generativeai) (0.6.15)\n",
      "Requirement already satisfied: protobuf in /Users/dominikhelmreich/opt/anaconda3/lib/python3.9/site-packages (from google-generativeai) (5.29.3)\n",
      "Requirement already satisfied: google-api-python-client in /Users/dominikhelmreich/opt/anaconda3/lib/python3.9/site-packages (from google-generativeai) (2.160.0)\n",
      "Requirement already satisfied: typing-extensions in /Users/dominikhelmreich/opt/anaconda3/lib/python3.9/site-packages (from google-generativeai) (4.12.2)\n",
      "Requirement already satisfied: pydantic in /Users/dominikhelmreich/opt/anaconda3/lib/python3.9/site-packages (from google-generativeai) (2.10.6)\n",
      "Requirement already satisfied: google-auth>=2.15.0 in /Users/dominikhelmreich/opt/anaconda3/lib/python3.9/site-packages (from google-generativeai) (2.38.0)\n",
      "Requirement already satisfied: google-api-core in /Users/dominikhelmreich/opt/anaconda3/lib/python3.9/site-packages (from google-generativeai) (2.24.1)\n",
      "Requirement already satisfied: proto-plus<2.0.0dev,>=1.22.3 in /Users/dominikhelmreich/opt/anaconda3/lib/python3.9/site-packages (from google-ai-generativelanguage==0.6.15->google-generativeai) (1.26.0)\n",
      "Requirement already satisfied: requests<3.0.0.dev0,>=2.18.0 in /Users/dominikhelmreich/opt/anaconda3/lib/python3.9/site-packages (from google-api-core->google-generativeai) (2.26.0)\n",
      "Requirement already satisfied: googleapis-common-protos<2.0.dev0,>=1.56.2 in /Users/dominikhelmreich/opt/anaconda3/lib/python3.9/site-packages (from google-api-core->google-generativeai) (1.66.0)\n",
      "Requirement already satisfied: grpcio-status<2.0.dev0,>=1.33.2 in /Users/dominikhelmreich/opt/anaconda3/lib/python3.9/site-packages (from google-api-core->google-generativeai) (1.70.0)\n",
      "Requirement already satisfied: grpcio<2.0dev,>=1.33.2 in /Users/dominikhelmreich/opt/anaconda3/lib/python3.9/site-packages (from google-api-core->google-generativeai) (1.70.0)\n",
      "Requirement already satisfied: pyasn1-modules>=0.2.1 in /Users/dominikhelmreich/opt/anaconda3/lib/python3.9/site-packages (from google-auth>=2.15.0->google-generativeai) (0.4.1)\n",
      "Requirement already satisfied: cachetools<6.0,>=2.0.0 in /Users/dominikhelmreich/opt/anaconda3/lib/python3.9/site-packages (from google-auth>=2.15.0->google-generativeai) (5.5.1)\n",
      "Requirement already satisfied: rsa<5,>=3.1.4 in /Users/dominikhelmreich/opt/anaconda3/lib/python3.9/site-packages (from google-auth>=2.15.0->google-generativeai) (4.9)\n",
      "Requirement already satisfied: pyasn1<0.7.0,>=0.4.6 in /Users/dominikhelmreich/opt/anaconda3/lib/python3.9/site-packages (from pyasn1-modules>=0.2.1->google-auth>=2.15.0->google-generativeai) (0.6.1)\n",
      "Requirement already satisfied: urllib3<1.27,>=1.21.1 in /Users/dominikhelmreich/opt/anaconda3/lib/python3.9/site-packages (from requests<3.0.0.dev0,>=2.18.0->google-api-core->google-generativeai) (1.26.7)\n",
      "Requirement already satisfied: idna<4,>=2.5 in /Users/dominikhelmreich/opt/anaconda3/lib/python3.9/site-packages (from requests<3.0.0.dev0,>=2.18.0->google-api-core->google-generativeai) (3.2)\n",
      "Requirement already satisfied: certifi>=2017.4.17 in /Users/dominikhelmreich/opt/anaconda3/lib/python3.9/site-packages (from requests<3.0.0.dev0,>=2.18.0->google-api-core->google-generativeai) (2021.10.8)\n",
      "Requirement already satisfied: charset-normalizer~=2.0.0 in /Users/dominikhelmreich/opt/anaconda3/lib/python3.9/site-packages (from requests<3.0.0.dev0,>=2.18.0->google-api-core->google-generativeai) (2.0.4)\n",
      "Requirement already satisfied: google-auth-httplib2<1.0.0,>=0.2.0 in /Users/dominikhelmreich/opt/anaconda3/lib/python3.9/site-packages (from google-api-python-client->google-generativeai) (0.2.0)\n",
      "Requirement already satisfied: httplib2<1.dev0,>=0.19.0 in /Users/dominikhelmreich/opt/anaconda3/lib/python3.9/site-packages (from google-api-python-client->google-generativeai) (0.22.0)\n",
      "Requirement already satisfied: uritemplate<5,>=3.0.1 in /Users/dominikhelmreich/opt/anaconda3/lib/python3.9/site-packages (from google-api-python-client->google-generativeai) (4.1.1)\n",
      "Requirement already satisfied: pyparsing!=3.0.0,!=3.0.1,!=3.0.2,!=3.0.3,<4,>=2.4.2 in /Users/dominikhelmreich/opt/anaconda3/lib/python3.9/site-packages (from httplib2<1.dev0,>=0.19.0->google-api-python-client->google-generativeai) (3.0.4)\n",
      "Requirement already satisfied: annotated-types>=0.6.0 in /Users/dominikhelmreich/opt/anaconda3/lib/python3.9/site-packages (from pydantic->google-generativeai) (0.7.0)\n",
      "Requirement already satisfied: pydantic-core==2.27.2 in /Users/dominikhelmreich/opt/anaconda3/lib/python3.9/site-packages (from pydantic->google-generativeai) (2.27.2)\n",
      "Requirement already satisfied: python-dotenv in /Users/dominikhelmreich/opt/anaconda3/lib/python3.9/site-packages (1.0.1)\n"
     ]
    },
    {
     "ename": "ModuleNotFoundError",
     "evalue": "No module named 'google'",
     "output_type": "error",
     "traceback": [
      "\u001b[0;31m---------------------------------------------------------------------------\u001b[0m",
      "\u001b[0;31mModuleNotFoundError\u001b[0m                       Traceback (most recent call last)",
      "Cell \u001b[0;32mIn[1], line 6\u001b[0m\n\u001b[1;32m      3\u001b[0m get_ipython()\u001b[38;5;241m.\u001b[39msystem(\u001b[38;5;124m'\u001b[39m\u001b[38;5;124mpip install python-dotenv\u001b[39m\u001b[38;5;124m'\u001b[39m)\n\u001b[1;32m      5\u001b[0m \u001b[38;5;28;01mimport\u001b[39;00m\u001b[38;5;250m \u001b[39m\u001b[38;5;21;01mos\u001b[39;00m\n\u001b[0;32m----> 6\u001b[0m \u001b[38;5;28;01mimport\u001b[39;00m\u001b[38;5;250m \u001b[39m\u001b[38;5;21;01mgoogle\u001b[39;00m\u001b[38;5;21;01m.\u001b[39;00m\u001b[38;5;21;01mgenerativeai\u001b[39;00m\u001b[38;5;250m \u001b[39m\u001b[38;5;28;01mas\u001b[39;00m\u001b[38;5;250m \u001b[39m\u001b[38;5;21;01mgenai\u001b[39;00m\n\u001b[1;32m      7\u001b[0m \u001b[38;5;28;01mfrom\u001b[39;00m\u001b[38;5;250m \u001b[39m\u001b[38;5;21;01mdotenv\u001b[39;00m\u001b[38;5;250m \u001b[39m\u001b[38;5;28;01mimport\u001b[39;00m load_dotenv\n\u001b[1;32m      9\u001b[0m \u001b[38;5;66;03m# Load environment variables\u001b[39;00m\n",
      "\u001b[0;31mModuleNotFoundError\u001b[0m: No module named 'google'"
     ]
    }
   ],
   "source": [
    "# Install required packages\n",
    "!pip install google-generativeai\n",
    "!pip install python-dotenv\n",
    "\n",
    "import os\n",
    "import google.generativeai as genai\n",
    "from dotenv import load_dotenv\n",
    "\n",
    "# Load environment variables\n",
    "load_dotenv()\n",
    "\n",
    "# Configure Gemini\n",
    "GOOGLE_API_KEY = os.getenv('GOOGLE_API_KEY')\n",
    "if not GOOGLE_API_KEY:\n",
    "    raise ValueError(\"Please set GOOGLE_API_KEY environment variable\")\n",
    "\n",
    "genai.configure(api_key=GOOGLE_API_KEY)\n",
    "print(\"Gemini initialized successfully!\")"
   ]
  },
  {
   "cell_type": "code",
   "execution_count": null,
   "metadata": {},
   "outputs": [],
   "source": []
  },
  {
   "cell_type": "code",
   "execution_count": 3,
   "metadata": {},
   "outputs": [
    {
     "ename": "NameError",
     "evalue": "name 'genai' is not defined",
     "output_type": "error",
     "traceback": [
      "\u001b[0;31m---------------------------------------------------------------------------\u001b[0m",
      "\u001b[0;31mNameError\u001b[0m                                 Traceback (most recent call last)",
      "Cell \u001b[0;32mIn[3], line 2\u001b[0m\n\u001b[1;32m      1\u001b[0m \u001b[38;5;66;03m# Initialize the model and start chat\u001b[39;00m\n\u001b[0;32m----> 2\u001b[0m model \u001b[38;5;241m=\u001b[39m \u001b[43mgenai\u001b[49m\u001b[38;5;241m.\u001b[39mGenerativeModel(\u001b[38;5;124m'\u001b[39m\u001b[38;5;124mgemini-2.0-flash\u001b[39m\u001b[38;5;124m'\u001b[39m)\n\u001b[1;32m      3\u001b[0m chat \u001b[38;5;241m=\u001b[39m model\u001b[38;5;241m.\u001b[39mstart_chat(history\u001b[38;5;241m=\u001b[39m[])\n\u001b[1;32m      5\u001b[0m \u001b[38;5;28;01mdef\u001b[39;00m\u001b[38;5;250m \u001b[39m\u001b[38;5;21manalyze_video\u001b[39m(video_path: \u001b[38;5;28mstr\u001b[39m) \u001b[38;5;241m-\u001b[39m\u001b[38;5;241m>\u001b[39m \u001b[38;5;28mstr\u001b[39m:\n",
      "\u001b[0;31mNameError\u001b[0m: name 'genai' is not defined"
     ]
    }
   ],
   "source": [
    "# Initialize the model and start chat\n",
    "model = genai.GenerativeModel('gemini-2.0-flash')\n",
    "chat = model.start_chat(history=[])\n",
    "\n",
    "def analyze_video(video_path: str) -> str:\n",
    "    try:\n",
    "        # Read video file\n",
    "        with open(video_path, 'rb') as f:\n",
    "            video_data = f.read()\n",
    "        \n",
    "        # Create video prompt for Gemini (same as web app)\n",
    "        response = chat.send_message([\n",
    "            \"Analyze the video stream. Your goal is to write instructions for a Compute use model to automate the task of the video. \" \\\n",
    "            \"If anything is unclear, ask for clarification. Make sure to collect/ \" \\\n",
    "            \"understand all the information needed to automate the task.\",\n",
    "            {\n",
    "                \"mime_type\": \"video/webm\",\n",
    "                \"data\": video_data\n",
    "            }\n",
    "        ])\n",
    "        \n",
    "        return response.text\n",
    "    \n",
    "    except Exception as e:\n",
    "        return f\"Error analyzing video: {str(e)}\"\n",
    "\n",
    "# Test with a video file\n",
    "video_path = 'dummy_test.webm'\n",
    "print(\"Analyzing video...\")\n",
    "analysis = analyze_video(video_path)\n",
    "print(\"\\nGemini's Analysis:\")\n",
    "print(\"=\" * 50)\n",
    "print(analysis)\n",
    "print(\"=\" * 50)"
   ]
  },
  {
   "cell_type": "code",
   "execution_count": null,
   "metadata": {},
   "outputs": [],
   "source": []
  },
  {
   "cell_type": "code",
   "execution_count": null,
   "metadata": {},
   "outputs": [],
   "source": []
  },
  {
   "cell_type": "code",
   "execution_count": null,
   "metadata": {},
   "outputs": [],
   "source": []
  },
  {
   "cell_type": "code",
   "execution_count": null,
   "metadata": {},
   "outputs": [],
   "source": []
  },
  {
   "cell_type": "code",
   "execution_count": null,
   "metadata": {},
   "outputs": [],
   "source": []
  },
  {
   "cell_type": "code",
   "execution_count": null,
   "metadata": {},
   "outputs": [],
   "source": []
  },
  {
   "cell_type": "code",
   "execution_count": null,
   "metadata": {},
   "outputs": [],
   "source": []
  },
  {
   "cell_type": "code",
   "execution_count": null,
   "metadata": {},
   "outputs": [],
   "source": []
  },
  {
   "cell_type": "code",
   "execution_count": null,
   "metadata": {},
   "outputs": [],
   "source": []
  },
  {
   "cell_type": "code",
   "execution_count": null,
   "metadata": {},
   "outputs": [],
   "source": []
  },
  {
   "cell_type": "code",
   "execution_count": null,
   "metadata": {},
   "outputs": [],
   "source": []
  },
  {
   "cell_type": "code",
   "execution_count": null,
   "metadata": {},
   "outputs": [],
   "source": []
  },
  {
   "cell_type": "code",
   "execution_count": null,
   "metadata": {},
   "outputs": [],
   "source": []
  },
  {
   "cell_type": "code",
   "execution_count": null,
   "metadata": {},
   "outputs": [],
   "source": []
  },
  {
   "cell_type": "code",
   "execution_count": null,
   "metadata": {},
   "outputs": [],
   "source": []
  },
  {
   "cell_type": "code",
   "execution_count": null,
   "metadata": {},
   "outputs": [],
   "source": []
  },
  {
   "cell_type": "code",
   "execution_count": null,
   "metadata": {},
   "outputs": [],
   "source": []
  },
  {
   "cell_type": "code",
   "execution_count": null,
   "metadata": {},
   "outputs": [],
   "source": []
  },
  {
   "cell_type": "code",
   "execution_count": null,
   "metadata": {},
   "outputs": [],
   "source": []
  },
  {
   "cell_type": "code",
   "execution_count": null,
   "metadata": {},
   "outputs": [],
   "source": []
  },
  {
   "cell_type": "code",
   "execution_count": null,
   "metadata": {},
   "outputs": [],
   "source": []
  },
  {
   "cell_type": "code",
   "execution_count": null,
   "metadata": {},
   "outputs": [],
   "source": []
  },
  {
   "cell_type": "code",
   "execution_count": null,
   "metadata": {},
   "outputs": [],
   "source": []
  },
  {
   "cell_type": "code",
   "execution_count": null,
   "metadata": {},
   "outputs": [],
   "source": []
  },
  {
   "cell_type": "code",
   "execution_count": null,
   "metadata": {},
   "outputs": [],
   "source": []
  },
  {
   "cell_type": "code",
   "execution_count": null,
   "metadata": {},
   "outputs": [],
   "source": []
  }
 ],
 "metadata": {
  "kernelspec": {
   "display_name": "Python 3",
   "language": "python",
   "name": "python3"
  },
  "language_info": {
   "codemirror_mode": {
    "name": "ipython",
    "version": 3
   },
   "file_extension": ".py",
   "mimetype": "text/x-python",
   "name": "python",
   "nbconvert_exporter": "python",
   "pygments_lexer": "ipython3",
   "version": "3.11.11"
  }
 },
 "nbformat": 4,
 "nbformat_minor": 2
}
