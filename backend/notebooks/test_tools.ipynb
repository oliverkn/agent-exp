{
 "cells": [
  {
   "cell_type": "code",
   "execution_count": 2,
   "metadata": {},
   "outputs": [
    {
     "name": "stdout",
     "output_type": "stream",
     "text": [
      "The autoreload extension is already loaded. To reload it, use:\n",
      "  %reload_ext autoreload\n"
     ]
    }
   ],
   "source": [
    "%load_ext autoreload\n",
    "%autoreload 2\n",
    "\n",
    "import sys\n",
    "import os\n",
    "sys.path.append(os.path.abspath(\"..\"))\n",
    "\n",
    "from app.tools import *\n"
   ]
  },
  {
   "cell_type": "code",
   "execution_count": 3,
   "metadata": {},
   "outputs": [
    {
     "name": "stdout",
     "output_type": "stream",
     "text": [
      "{'ms_graph.email': 'oliver.knapp@askantis.ch', 'ms_graph.client_id': 'e311ce0a-dc6d-4329-9298-3f40b85e8ead', 'ms_graph.tenant_id': '76929ee5-7d66-4173-b421-9ff1a59cd5e8'}\n",
      "Please sign in at: https://microsoft.com/devicelogin\n",
      "Use this code: LCYJJUPKX\n",
      "\n",
      "Waiting for user to sign in...\n",
      "✅ Sign-in detected! Access token acquired.\n"
     ]
    },
    {
     "data": {
      "text/plain": [
       "{'success': True}"
      ]
     },
     "execution_count": 3,
     "metadata": {},
     "output_type": "execute_result"
    }
   ],
   "source": [
    "tool_box = ToolBox()\n",
    "tool_box.add_tool(SetupMSGraph())\n",
    "tool_box.add_tool(AuthenticateMSGraph())\n",
    "tool_box.add_tool(GetLatestEmail())\n",
    "\n",
    "\n",
    "\n",
    "tool_box.call(\"setup_ms_graph\", '{\"client_id\": \"e311ce0a-dc6d-4329-9298-3f40b85e8ead\", \"tenant_id\": \"76929ee5-7d66-4173-b421-9ff1a59cd5e8\", \"email\": \"oliver.knapp@askantis.ch\"}')\n",
    "\n",
    "print(tool_box.global_state)\n",
    "\n",
    "tool_box.call(\"authenticate_ms_graph\", '{}')\n",
    "\n",
    "\n"
   ]
  },
  {
   "cell_type": "code",
   "execution_count": 5,
   "metadata": {},
   "outputs": [
    {
     "data": {
      "text/plain": [
       "{'subject': 'Weiteres Vorgehen',\n",
       " 'from': 'oliver.knapp@askantis.ch',\n",
       " 'receivedDateTime': '2025-02-07T12:04:22Z',\n",
       " 'bodyPreview': 'Mit dem Förderexperten folgende Punkte besprechen:\\r\\n\\r\\n  *   Marina vs Marinas Bruder anstellen\\r\\n  *   Gibt es eine Förderung für die 5k die er kosten würde\\r\\n\\r\\n\\r\\n\\r\\nOliver Knapp\\r\\nCo-Founder and Managing Director\\r\\n\\r\\nAskantis GmbH | Value from AI\\r\\nHardturmstr'}"
      ]
     },
     "execution_count": 5,
     "metadata": {},
     "output_type": "execute_result"
    }
   ],
   "source": [
    "\n",
    "tool_box.call(\"get_latest_email\", '{}')"
   ]
  },
  {
   "cell_type": "code",
   "execution_count": null,
   "metadata": {},
   "outputs": [],
   "source": []
  }
 ],
 "metadata": {
  "kernelspec": {
   "display_name": "Python 3",
   "language": "python",
   "name": "python3"
  },
  "language_info": {
   "codemirror_mode": {
    "name": "ipython",
    "version": 3
   },
   "file_extension": ".py",
   "mimetype": "text/x-python",
   "name": "python",
   "nbconvert_exporter": "python",
   "pygments_lexer": "ipython3",
   "version": "3.12.0"
  }
 },
 "nbformat": 4,
 "nbformat_minor": 2
}
